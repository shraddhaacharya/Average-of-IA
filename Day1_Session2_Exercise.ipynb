{
  "nbformat": 4,
  "nbformat_minor": 0,
  "metadata": {
    "colab": {
      "name": "Day1_Session2_Exercise.ipynb",
      "provenance": [],
      "collapsed_sections": [],
      "authorship_tag": "ABX9TyPIEq1aC86zfoxf/k+Frly0",
      "include_colab_link": true
    },
    "kernelspec": {
      "name": "python3",
      "display_name": "Python 3"
    }
  },
  "cells": [
    {
      "cell_type": "markdown",
      "metadata": {
        "id": "view-in-github",
        "colab_type": "text"
      },
      "source": [
        "<a href=\"https://colab.research.google.com/github/shraddhaacharya/Python-Workshop/blob/master/Day1_Session2_Exercise.ipynb\" target=\"_parent\"><img src=\"https://colab.research.google.com/assets/colab-badge.svg\" alt=\"Open In Colab\"/></a>"
      ]
    },
    {
      "cell_type": "markdown",
      "metadata": {
        "id": "0rVtYiBq4RLh",
        "colab_type": "text"
      },
      "source": [
        "1 Write a program to print the triangle \n",
        "i/p  4\n",
        "\n",
        "1\n",
        "2    3\n",
        "3    4   5\n",
        "4    5   6   7\n"
      ]
    },
    {
      "cell_type": "code",
      "metadata": {
        "id": "yUzPjTMc4UXJ",
        "colab_type": "code",
        "colab": {
          "base_uri": "https://localhost:8080/",
          "height": 102
        },
        "outputId": "8fe2bf8f-92d9-4c96-d7ed-3e6845d84ce9"
      },
      "source": [
        "n=4;\n",
        "for i in range(5):\n",
        "  k=i\n",
        "  for j in range(k):\n",
        "      print (k, end=\" \")\n",
        "      k=k+1\n",
        "  print('')\n",
        "\n"
      ],
      "execution_count": 18,
      "outputs": [
        {
          "output_type": "stream",
          "text": [
            "\n",
            "1 \n",
            "2 3 \n",
            "3 4 5 \n",
            "4 5 6 7 \n"
          ],
          "name": "stdout"
        }
      ]
    },
    {
      "cell_type": "markdown",
      "metadata": {
        "id": "X27K8tvx6_hG",
        "colab_type": "text"
      },
      "source": [
        "2)Program to print the pattern\n",
        "*\n",
        "* *\n",
        "* * *\n",
        "* * * *\n"
      ]
    },
    {
      "cell_type": "code",
      "metadata": {
        "id": "eNO9RKYH7R05",
        "colab_type": "code",
        "colab": {
          "base_uri": "https://localhost:8080/",
          "height": 102
        },
        "outputId": "c7c8f7a1-4410-47e0-d575-3c04828a6659"
      },
      "source": [
        "n=5;\n",
        "for i in range(n):\n",
        "    for j in range(i):\n",
        "        print ('* ', end=\"\")\n",
        "    print('')\n"
      ],
      "execution_count": 29,
      "outputs": [
        {
          "output_type": "stream",
          "text": [
            "\n",
            "* \n",
            "* * \n",
            "* * * \n",
            "* * * * \n"
          ],
          "name": "stdout"
        }
      ]
    },
    {
      "cell_type": "code",
      "metadata": {
        "id": "BgiaUccF86Gl",
        "colab_type": "code",
        "colab": {}
      },
      "source": [
        ""
      ],
      "execution_count": null,
      "outputs": []
    },
    {
      "cell_type": "markdown",
      "metadata": {
        "id": "U4PNAFZF7lOb",
        "colab_type": "text"
      },
      "source": [
        "3)Program to print the pattern\n",
        "5\n",
        "4 5\n",
        "3 4 5\n",
        "2 3 4 5\n",
        "1 2 3 4 5"
      ]
    },
    {
      "cell_type": "code",
      "metadata": {
        "id": "XH_r7aUW7wBp",
        "colab_type": "code",
        "colab": {
          "base_uri": "https://localhost:8080/",
          "height": 102
        },
        "outputId": "75c7ec90-2bdb-4a61-8fd4-ad81cdb4f594"
      },
      "source": [
        "n=5;\n",
        "for i in range(n,0,-1):\n",
        "  for j in range(i,n+1):\n",
        "      print (j, end=' ')\n",
        "  print('')"
      ],
      "execution_count": 33,
      "outputs": [
        {
          "output_type": "stream",
          "text": [
            "5 \n",
            "4 5 \n",
            "3 4 5 \n",
            "2 3 4 5 \n",
            "1 2 3 4 5 \n"
          ],
          "name": "stdout"
        }
      ]
    },
    {
      "cell_type": "markdown",
      "metadata": {
        "id": "8oUFC19N-jQc",
        "colab_type": "text"
      },
      "source": [
        "4)Program to print the following pattern\n",
        "5 4 3 2 1\n",
        "4 3 2 1\n",
        "3 2 1\n",
        "2 1\n",
        "1\n"
      ]
    },
    {
      "cell_type": "code",
      "metadata": {
        "id": "ORyvrEb5-qpi",
        "colab_type": "code",
        "colab": {
          "base_uri": "https://localhost:8080/",
          "height": 119
        },
        "outputId": "8ddc5048-451f-4ac6-9cbc-e1983577df17"
      },
      "source": [
        "n=5\n",
        "for i in range(0,n+1):\n",
        "  for j in range(n-i,0,-1):\n",
        "      print(j,end=\" \")\n",
        "  print()"
      ],
      "execution_count": 31,
      "outputs": [
        {
          "output_type": "stream",
          "text": [
            "5 4 3 2 1 \n",
            "4 3 2 1 \n",
            "3 2 1 \n",
            "2 1 \n",
            "1 \n",
            "\n"
          ],
          "name": "stdout"
        }
      ]
    },
    {
      "cell_type": "markdown",
      "metadata": {
        "id": "0P7YMPrBAZJH",
        "colab_type": "text"
      },
      "source": [
        "5)Python program to print the following pattern\n",
        "\n",
        "1 2 3 4\n",
        "2 3 4\n",
        "3 4\n",
        "4\n",
        "3 4\n",
        "2 3 4\n",
        "1 2 3 4\n"
      ]
    },
    {
      "cell_type": "code",
      "metadata": {
        "id": "Rhlfn87GA9EU",
        "colab_type": "code",
        "colab": {
          "base_uri": "https://localhost:8080/",
          "height": 153
        },
        "outputId": "fe9dd586-0cb9-400f-f67f-65a4cf69efcd"
      },
      "source": [
        "n=4\n",
        "for i in range(0,n+1,1):\n",
        "  for j in range(i+1,n+1,1):\n",
        "    print(j,end=' ')\n",
        "  print()\n",
        "for i in range(4,n-3,-1):\n",
        "  for j in range(i-1,n+1,1):\n",
        "    print(j,end=' ')\n",
        "  print()"
      ],
      "execution_count": 100,
      "outputs": [
        {
          "output_type": "stream",
          "text": [
            "1 2 3 4 \n",
            "2 3 4 \n",
            "3 4 \n",
            "4 \n",
            "\n",
            "3 4 \n",
            "2 3 4 \n",
            "1 2 3 4 \n"
          ],
          "name": "stdout"
        }
      ]
    },
    {
      "cell_type": "markdown",
      "metadata": {
        "id": "5sEDpW6NK9R8",
        "colab_type": "text"
      },
      "source": [
        "6)Find the length of the string without using len function"
      ]
    },
    {
      "cell_type": "code",
      "metadata": {
        "id": "LJoFWdRpLS_f",
        "colab_type": "code",
        "colab": {
          "base_uri": "https://localhost:8080/",
          "height": 51
        },
        "outputId": "faa2f0f4-24c9-46ed-9ab2-79b03471da76"
      },
      "source": [
        "str = input(\"Enter a string: \")\n",
        "counter = 0\n",
        "for s in str:\n",
        "      counter = counter+1\n",
        "print(\"Length of the input string is:\", counter)"
      ],
      "execution_count": 64,
      "outputs": [
        {
          "output_type": "stream",
          "text": [
            "Enter a string: aiet\n",
            "Length of the input string is: 4\n"
          ],
          "name": "stdout"
        }
      ]
    },
    {
      "cell_type": "markdown",
      "metadata": {
        "id": "suo0x_LRLY1S",
        "colab_type": "text"
      },
      "source": [
        "7 Find the no of words and characters in a string"
      ]
    },
    {
      "cell_type": "code",
      "metadata": {
        "id": "YipPB4FhLdVd",
        "colab_type": "code",
        "colab": {
          "base_uri": "https://localhost:8080/",
          "height": 102
        },
        "outputId": "50126869-3c2c-43b1-f0e1-15038993f6a6"
      },
      "source": [
        "string=input(\"Enter string:\")\n",
        "char=0\n",
        "word=1\n",
        "for i in string:\n",
        "      char=char+1\n",
        "      if(i==' '):\n",
        "            word=word+1\n",
        "print(\"Number of words in the string:\")\n",
        "print(word)\n",
        "print(\"Number of characters in the string:\")\n",
        "print(char)"
      ],
      "execution_count": 66,
      "outputs": [
        {
          "output_type": "stream",
          "text": [
            "Enter string:i am in class\n",
            "Number of words in the string:\n",
            "4\n",
            "Number of characters in the string:\n",
            "13\n"
          ],
          "name": "stdout"
        }
      ]
    },
    {
      "cell_type": "markdown",
      "metadata": {
        "id": "TziJu06GL2CE",
        "colab_type": "text"
      },
      "source": [
        "8 Find the no of occurrences of a word in a string\n",
        "\n"
      ]
    },
    {
      "cell_type": "code",
      "metadata": {
        "id": "alVKhnp8L25p",
        "colab_type": "code",
        "colab": {
          "base_uri": "https://localhost:8080/",
          "height": 68
        },
        "outputId": "43d97c8f-e18d-4fb2-e42f-4cc84e782c92"
      },
      "source": [
        "def countOccurences(str, word): \n",
        "    a = str.split(\" \") \n",
        "    count = 0\n",
        "    for i in range(0, len(a)):  \n",
        "        if (word == a[i]): \n",
        "           count = count + 1\n",
        "             \n",
        "    return count        \n",
        "str =input(\"Enter the String\")\n",
        "word =input(\"Enter the word\")\n",
        "print(countOccurences(str, word)) "
      ],
      "execution_count": 67,
      "outputs": [
        {
          "output_type": "stream",
          "text": [
            "Enter the Stringgeeks for geeks\n",
            "Enter the wordgeeks\n",
            "2\n"
          ],
          "name": "stdout"
        }
      ]
    }
  ]
}