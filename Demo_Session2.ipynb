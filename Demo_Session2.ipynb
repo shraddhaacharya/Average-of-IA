{
  "nbformat": 4,
  "nbformat_minor": 0,
  "metadata": {
    "colab": {
      "name": "Demo_Session2.ipynb",
      "provenance": [],
      "collapsed_sections": [],
      "authorship_tag": "ABX9TyPcKRt9IxWVTOcvwCjclNUK",
      "include_colab_link": true
    },
    "kernelspec": {
      "name": "python3",
      "display_name": "Python 3"
    }
  },
  "cells": [
    {
      "cell_type": "markdown",
      "metadata": {
        "id": "view-in-github",
        "colab_type": "text"
      },
      "source": [
        "<a href=\"https://colab.research.google.com/github/shraddhaacharya/Python-Workshop/blob/master/Demo_Session2.ipynb\" target=\"_parent\"><img src=\"https://colab.research.google.com/assets/colab-badge.svg\" alt=\"Open In Colab\"/></a>"
      ]
    },
    {
      "cell_type": "markdown",
      "metadata": {
        "id": "I__PIpdryWjd",
        "colab_type": "text"
      },
      "source": [
        "#Python Program to find the factorial of a number using loop. \n"
      ]
    },
    {
      "cell_type": "code",
      "metadata": {
        "id": "iC9rlPb-yXy6",
        "colab_type": "code",
        "colab": {
          "base_uri": "https://localhost:8080/",
          "height": 68
        },
        "outputId": "bb0ea1e6-e6f5-4449-f14d-0b77dfb4b084"
      },
      "source": [
        "n=int(input(\"Enter number:\"))\n",
        "fact=1\n",
        "\n",
        "while(n>0):\n",
        "    fact=fact*n\n",
        "    n=n-1\n",
        "print(\"Factorial of the number is: \")\n",
        "print(fact)\n"
      ],
      "execution_count": null,
      "outputs": [
        {
          "output_type": "stream",
          "text": [
            "Enter number:3\n",
            "Factorial of the number is: \n",
            "6\n"
          ],
          "name": "stdout"
        }
      ]
    },
    {
      "cell_type": "markdown",
      "metadata": {
        "id": "6hoYAgQIytP1",
        "colab_type": "text"
      },
      "source": [
        "Python Program to reverse a number using loop "
      ]
    },
    {
      "cell_type": "code",
      "metadata": {
        "id": "rpgb48C_yxJ4",
        "colab_type": "code",
        "colab": {
          "base_uri": "https://localhost:8080/",
          "height": 68
        },
        "outputId": "2259b5e0-ab3d-4fe7-a767-03a5501eafa3"
      },
      "source": [
        "r=0\n",
        "n=int(input(\"Enter a number: \"))\n",
        "while(n>0):\n",
        "    dig=n%10\n",
        "    r=r*10+dig\n",
        "    n=n//10\n",
        "print(\"The reversed no  is:\")\n",
        "print(r)\n"
      ],
      "execution_count": null,
      "outputs": [
        {
          "output_type": "stream",
          "text": [
            "Enter a number: 12345\n",
            "The reversed no  is:\n",
            "54321\n"
          ],
          "name": "stdout"
        }
      ]
    },
    {
      "cell_type": "markdown",
      "metadata": {
        "id": "g2vzxztty4lH",
        "colab_type": "text"
      },
      "source": [
        "#Write a Python program to construct the following pattern, using a nested for loop.\n",
        "* \n",
        "* * \n",
        "* * * \n",
        "* * * * \n",
        "* * * * * \n",
        "* * * * \n",
        "* * * \n",
        "* * \n",
        "*\n",
        "\n"
      ]
    },
    {
      "cell_type": "code",
      "metadata": {
        "id": "NG3ba7Lvy9YO",
        "colab_type": "code",
        "colab": {
          "base_uri": "https://localhost:8080/",
          "height": 187
        },
        "outputId": "0d0f900c-8f37-4044-8207-e9989a632ab2"
      },
      "source": [
        "n=5;\n",
        "for i in range(n):\n",
        "    for j in range(i):\n",
        "        print ('* ', end=\"\")\n",
        "    print('')\n",
        "\n",
        "for i in range(n,0,-1):\n",
        "    for j in range(i):\n",
        "        print('* ', end=\"\")\n",
        "    print('')\n"
      ],
      "execution_count": null,
      "outputs": [
        {
          "output_type": "stream",
          "text": [
            "\n",
            "* \n",
            "* * \n",
            "* * * \n",
            "* * * * \n",
            "* * * * * \n",
            "* * * * \n",
            "* * * \n",
            "* * \n",
            "* \n"
          ],
          "name": "stdout"
        }
      ]
    },
    {
      "cell_type": "markdown",
      "metadata": {
        "id": "8Qw881GezEXl",
        "colab_type": "text"
      },
      "source": [
        "#Python Program to replace all occurrences of ‘a’ with ‘$’ in a string."
      ]
    },
    {
      "cell_type": "code",
      "metadata": {
        "id": "60SwxI-KzHdH",
        "colab_type": "code",
        "colab": {
          "base_uri": "https://localhost:8080/",
          "height": 68
        },
        "outputId": "a5193540-286e-455a-cf0b-aeab35f803c8"
      },
      "source": [
        "string=input(\"Enter string:\")\n",
        "string=string.replace('a','$')\n",
        "string=string.replace('A','$')\n",
        "print(\"Modified string:\")\n",
        "print(string)\n"
      ],
      "execution_count": null,
      "outputs": [
        {
          "output_type": "stream",
          "text": [
            "Enter string:aiet\n",
            "Modified string:\n",
            "$iet\n"
          ],
          "name": "stdout"
        }
      ]
    },
    {
      "cell_type": "markdown",
      "metadata": {
        "id": "1WflGYvNzQ4g",
        "colab_type": "text"
      },
      "source": [
        "#Python Program to remove the nth index character from a non-empty string. "
      ]
    },
    {
      "cell_type": "code",
      "metadata": {
        "id": "-otJodWPzWs3",
        "colab_type": "code",
        "colab": {
          "base_uri": "https://localhost:8080/",
          "height": 85
        },
        "outputId": "f0ca14d9-0b12-42cb-a2ba-692f0f3cb4f9"
      },
      "source": [
        "def remove(string, n):  \n",
        "      first = string[:n]   \n",
        "      last = string[n+1:]  \n",
        "      return first + last\n",
        "string=input(\"Enter the string:\")\n",
        "n=int(input(\"Enter the index of the character to remove:\"))\n",
        "print(\"Modified string:\")\n",
        "print(remove(string, n))\n"
      ],
      "execution_count": null,
      "outputs": [
        {
          "output_type": "stream",
          "text": [
            "Enter the string:aiet\n",
            "Enter the index of the character to remove:2\n",
            "Modified string:\n",
            "ait\n"
          ],
          "name": "stdout"
        }
      ]
    },
    {
      "cell_type": "markdown",
      "metadata": {
        "id": "pA6FrQK_znPg",
        "colab_type": "text"
      },
      "source": [
        "#Python Program to detect if two strings are anagrams. "
      ]
    },
    {
      "cell_type": "code",
      "metadata": {
        "id": "ZYlPdDtwztne",
        "colab_type": "code",
        "colab": {
          "base_uri": "https://localhost:8080/",
          "height": 68
        },
        "outputId": "358073af-3750-4332-892e-64262fce3e04"
      },
      "source": [
        "s1=input(\"Enter first string:\")\n",
        "s2=input(\"Enter second string:\")\n",
        "if(sorted(s1)==sorted(s2)):\n",
        "      print(\"The strings are anagrams.\")\n",
        "else:\n",
        "      print(\"The strings aren't anagrams.\")\n"
      ],
      "execution_count": null,
      "outputs": [
        {
          "output_type": "stream",
          "text": [
            "Enter first string:Alvas\n",
            "Enter second string:Institute\n",
            "The strings aren't anagrams.\n"
          ],
          "name": "stdout"
        }
      ]
    },
    {
      "cell_type": "markdown",
      "metadata": {
        "id": "KZxT_WAGz3QO",
        "colab_type": "text"
      },
      "source": [
        "#Python Program to form a string where the first character and the last character have been exchanged. "
      ]
    },
    {
      "cell_type": "code",
      "metadata": {
        "id": "HlXqT7Qoz-9n",
        "colab_type": "code",
        "colab": {
          "base_uri": "https://localhost:8080/",
          "height": 68
        },
        "outputId": "a76b2e2b-1276-4769-840f-0d67a64ee3f6"
      },
      "source": [
        "def change(string):\n",
        "      return string[-1:] + string[1:-1] + string[:1]\n",
        "string=input(\"Enter string:\")\n",
        "print(\"Modified string:\")\n",
        "print(change(string))\n"
      ],
      "execution_count": null,
      "outputs": [
        {
          "output_type": "stream",
          "text": [
            "Enter string:aiet\n",
            "Modified string:\n",
            "tiea\n"
          ],
          "name": "stdout"
        }
      ]
    },
    {
      "cell_type": "markdown",
      "metadata": {
        "id": "fD4_Fph60GkE",
        "colab_type": "text"
      },
      "source": [
        "#Python Program to  count number of vowels from a non-empty string"
      ]
    },
    {
      "cell_type": "code",
      "metadata": {
        "id": "iLxJN29H0KHE",
        "colab_type": "code",
        "colab": {
          "base_uri": "https://localhost:8080/",
          "height": 68
        },
        "outputId": "f63aee22-26c6-4aa5-ece2-068afd886b3f"
      },
      "source": [
        "string=input(\"Enter string:\")\n",
        "vowels=0\n",
        "for i in string:\n",
        "      if(i=='a' or i=='e' or i=='i' or i=='o' or i=='u' or i=='A' or i=='E' or i=='I' or i=='O' or i=='U'):\n",
        "            vowels=vowels+1\n",
        "print(\"Number of vowels are:\")\n",
        "print(vowels)\n"
      ],
      "execution_count": null,
      "outputs": [
        {
          "output_type": "stream",
          "text": [
            "Enter string:aiet\n",
            "Number of vowels are:\n",
            "3\n"
          ],
          "name": "stdout"
        }
      ]
    },
    {
      "cell_type": "markdown",
      "metadata": {
        "id": "Th9tOSK20Pi_",
        "colab_type": "text"
      },
      "source": [
        "#Program for Divide by zero error detection"
      ]
    },
    {
      "cell_type": "code",
      "metadata": {
        "id": "mCHI4o7P0UqW",
        "colab_type": "code",
        "colab": {
          "base_uri": "https://localhost:8080/",
          "height": 238
        },
        "outputId": "3beebeb7-e0da-439d-b205-d22128e73bfc"
      },
      "source": [
        "flag = True\n",
        "\n",
        "def div(a, b):  \n",
        "       try:\n",
        "            print(\"Finally the division of %d/%d is %f\" % (a, b,a/b))\n",
        "            global flag\n",
        "            flag=False\n",
        "       except ZeroDivisionError:\n",
        "            print(\"Zero Division Error detected\")\n",
        "       else:\n",
        "            print(\"Division is successful\") \n",
        "       finally:\n",
        "            if flag is True:\n",
        "               print(\"Try again\")     \n",
        "            else:\n",
        "               print(\"Thank you\")\n",
        "       \n",
        "#global flag\n",
        "\n",
        "while flag is True:\n",
        "    div(int(input(\"Enter numerator\")),int(input(\"Enter denominator\")))\n",
        "\n",
        "\n"
      ],
      "execution_count": null,
      "outputs": [
        {
          "output_type": "stream",
          "text": [
            "Enter numerator6\n",
            "Enter denominator0\n",
            "Zero Division Error detected\n",
            "Try again\n",
            "Enter numerator7\n",
            "Enter denominator0\n",
            "Zero Division Error detected\n",
            "Try again\n",
            "Enter numerator5\n",
            "Enter denominator6\n",
            "Finally the division of 5/6 is 0.833333\n",
            "Division is successful\n",
            "Thank you\n"
          ],
          "name": "stdout"
        }
      ]
    },
    {
      "cell_type": "markdown",
      "metadata": {
        "id": "kwWnfqXp0pd6",
        "colab_type": "text"
      },
      "source": [
        "#Program for ValueError error detection"
      ]
    },
    {
      "cell_type": "code",
      "metadata": {
        "id": "j9GLYX2q0qVP",
        "colab_type": "code",
        "colab": {
          "base_uri": "https://localhost:8080/",
          "height": 51
        },
        "outputId": "ebb9cffd-d789-4cbc-ea54-07a6d252e82f"
      },
      "source": [
        "while True:\n",
        "     try:\n",
        "         x = int(input(\"Please enter a number: \"))\n",
        "         print(\" That was valid number. Thank you\")\n",
        "         break\n",
        "     except ValueError:\n",
        "         print(\"Oops!  That was no valid number.  Try again...\")\n",
        "\n",
        "\n"
      ],
      "execution_count": null,
      "outputs": [
        {
          "output_type": "stream",
          "text": [
            "Please enter a number: 3\n",
            " That was valid number. Thank you\n"
          ],
          "name": "stdout"
        }
      ]
    }
  ]
}